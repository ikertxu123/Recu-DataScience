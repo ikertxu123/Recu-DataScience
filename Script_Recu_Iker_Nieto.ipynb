{
 "cells": [
  {
   "cell_type": "code",
   "execution_count": 1,
   "metadata": {},
   "outputs": [],
   "source": [
    "from lxml import html\n",
    "import requests\n",
    "import codecs\n",
    "import Levenshtein\n",
    "import pandas as pd"
   ]
  },
  {
   "cell_type": "code",
   "execution_count": 4,
   "metadata": {},
   "outputs": [],
   "source": [
    "pagina = 'https://dreguera.github.io/'\n",
    "page = requests.get(pagina)\n",
    "tree = html.fromstring(page.content)"
   ]
  },
  {
   "cell_type": "code",
   "execution_count": 5,
   "metadata": {},
   "outputs": [],
   "source": [
    "autor = tree.xpath(\"///div[@id='ariketa2']/div[@class='post']/div/span[@id='author']\")"
   ]
  },
  {
   "cell_type": "code",
   "execution_count": 7,
   "metadata": {},
   "outputs": [
    {
     "data": {
      "text/plain": [
       "['Dani', 'Reguera', 'dreguera@mondragon.edu']"
      ]
     },
     "execution_count": 7,
     "metadata": {},
     "output_type": "execute_result"
    }
   ],
   "source": [
    "autor[0].text.split(' ')"
   ]
  },
  {
   "cell_type": "code",
   "execution_count": 9,
   "metadata": {},
   "outputs": [],
   "source": [
    "mensajeto = tree.xpath(\"///div[@id='ariketa2']/div[@class='post']/div/span[@id='author']\")\n",
    "mensajes = tree.xpath(\"//div[@id='ariketa2']/div[@class='post']/div/div[@id='content']\")"
   ]
  },
  {
   "cell_type": "code",
   "execution_count": 25,
   "metadata": {},
   "outputs": [],
   "source": [
    "name=\"Dani\"\n",
    "name1=\"Carlos\"\n",
    "name2=\"Sara\"\n",
    "lista_dani=[]\n",
    "lista_carlos=[]\n",
    "lista_sara=[]\n",
    "patata=[]\n",
    "patata1=[]\n",
    "patata2=[]\n",
    "\n",
    "\n",
    "for k in mensajeto:\n",
    "    a=k.text.split(' ')[0]\n",
    "    patata.append(1)\n",
    "    t=len(patata)-1\n",
    "    if Levenshtein.distance(a,name)==0:\n",
    "        zanah=mensajes[t]\n",
    "        lista_dani.append(zanah)\n",
    "        \n",
    "for k in mensajeto:\n",
    "    a=k.text.split(' ')[0]\n",
    "    patata1.append(1)\n",
    "    t=len(patata1)-1\n",
    "    if Levenshtein.distance(a,name1)==0:\n",
    "        zanah1=mensajes[t]\n",
    "        lista_carlos.append(zanah1)\n",
    "                \n",
    "for k in mensajeto:\n",
    "    a=k.text.split(' ')[0]\n",
    "    patata2.append(1)\n",
    "    t=len(patata2)-1\n",
    "    if Levenshtein.distance(a,name2)==0:\n",
    "        zanah2=mensajes[t]\n",
    "        lista_sara.append(zanah2)\n"
   ]
  },
  {
   "cell_type": "code",
   "execution_count": 32,
   "metadata": {},
   "outputs": [
    {
     "name": "stdout",
     "output_type": "stream",
     "text": [
      "['He estado corrigiendo los trabajos de Data Science y la parte de aprendizaje no supervisado la han realizado bastante bien, Â¿QuÃ© algoritmos de clustering has dado en clase?', 'MeanShift para clustering por densidad habeis visto? Yo suelo utilizar para datos numÃ©ricos y me da muy buenos resultados para descartar outliers']\n",
      "['Hola Dani, en la parte de no supervisado me he centrado sobre todo en el clustering por densidad. Hemos visto Optics, DBSCAN y HDSCAN', 'Si, la verdad es que da buenos resultados pero cuando si puedes hacer ajustes manuales de otros parÃ¡metros, OPTICS y DBSCAN son mÃ¡s Ã³ptimos', 'Perfecto']\n",
      "['El tema del clutering por densidad me parece super interesante pero no se si tendrÃ\\xada aplicabilidad en el Reto 7', 'Guay! me parece super interesante y puede ser super enriquecedor']\n"
     ]
    }
   ],
   "source": [
    "mensajes_dani = []\n",
    "mensajes_carlos = []\n",
    "mensajes_sara = []\n",
    "\n",
    "\n",
    "\n",
    "for m in lista_dani:\n",
    "    mensajes_dani.append(m.text)\n",
    "print(mensajes_dani)\n",
    "\n",
    "for m in lista_carlos:\n",
    "    mensajes_carlos.append(m.text)\n",
    "print(mensajes_carlos)\n",
    "\n",
    "for m in lista_sara:\n",
    "    mensajes_sara.append(m.text)\n",
    "print(mensajes_sara)"
   ]
  },
  {
   "cell_type": "code",
   "execution_count": 34,
   "metadata": {},
   "outputs": [
    {
     "data": {
      "text/plain": [
       "'MeanShift para clustering por densidad habeis visto? Yo suelo utilizar para datos numÃ©ricos y me da muy buenos resultados para descartar outliers'"
      ]
     },
     "execution_count": 34,
     "metadata": {},
     "output_type": "execute_result"
    }
   ],
   "source": [
    "mensajes_dani[1]"
   ]
  },
  {
   "cell_type": "code",
   "execution_count": 37,
   "metadata": {},
   "outputs": [],
   "source": [
    "\n",
    "import string\n",
    "import nltk\n",
    "from nltk.corpus import stopwords  \n",
    "from nltk.tokenize import word_tokenize, sent_tokenize\n",
    "\n",
    "from lxml import html\n",
    "import requests\n",
    "import codecs\n",
    "\n",
    "import gensim\n",
    "\n",
    "\n",
    "from sklearn.metrics.pairwise import cosine_similarity\n",
    "from sklearn.feature_extraction.text import CountVectorizer"
   ]
  },
  {
   "cell_type": "code",
   "execution_count": 39,
   "metadata": {},
   "outputs": [
    {
     "name": "stdout",
     "output_type": "stream",
     "text": [
      "[[1 1 1 1 0 1 1 1 0 1 1 0 3 0 0 1 1 0 1 1 1 2 1 0 0 0 1 0 0 0 1 0 1 1 0 0\n",
      "  1 0 1 1 0 0 0]\n",
      " [0 0 0 0 1 0 1 0 1 0 0 1 0 1 1 0 0 1 0 0 0 0 0 1 1 1 0 1 1 3 0 1 0 0 1 1\n",
      "  0 1 0 0 1 1 1]]\n",
      "[[0 0 1 1 0 0 1 1 1 1 1 2 0 0 1 1 1 1 1 0 1 0 0 1 1 0 1 0 0 0 1 0 0 0 0 1\n",
      "  0 1 1 0 1 0]\n",
      " [1 1 0 0 1 1 0 1 1 0 0 0 1 1 0 0 0 0 1 1 0 1 1 0 1 1 0 1 0 1 0 1 1 1 2 0\n",
      "  1 0 0 1 0 1]\n",
      " [0 0 0 0 0 0 0 0 0 0 0 0 0 0 0 0 0 0 0 0 0 0 0 0 0 0 0 0 1 0 0 0 0 0 0 0\n",
      "  0 0 0 0 0 0]]\n"
     ]
    },
    {
     "data": {
      "text/plain": [
       "array([[1, 1, 1, 1, 2, 1, 0, 0, 1, 1, 1, 1, 1, 1, 0, 1, 1, 0, 1, 1, 1, 1],\n",
       "       [0, 0, 0, 0, 0, 0, 1, 1, 1, 1, 0, 1, 0, 0, 1, 0, 0, 1, 0, 2, 0, 0]],\n",
       "      dtype=int64)"
      ]
     },
     "execution_count": 39,
     "metadata": {},
     "output_type": "execute_result"
    }
   ],
   "source": [
    "vectorizerD = CountVectorizer().fit_transform(mensajes_dani) #Pasa las frases a vectores porque coge las palabras como únicas\n",
    "vectorsD = vectorizerD.toarray()\n",
    "vectorizerC = CountVectorizer().fit_transform(mensajes_carlos) #Pasa las frases a vectores porque coge las palabras como únicas\n",
    "vectorsC = vectorizerC.toarray()\n",
    "vectorizerS = CountVectorizer().fit_transform(mensajes_sara) #Pasa las frases a vectores porque coge las palabras como únicas\n",
    "vectorsS = vectorizerS.toarray()\n",
    "\n",
    "print(vectorsD)\n",
    "print(vectorsC)\n",
    "vectorsS"
   ]
  },
  {
   "cell_type": "code",
   "execution_count": 40,
   "metadata": {},
   "outputs": [],
   "source": [
    "csimD=cosine_similarity(vectorsD)\n",
    "csimC=cosine_similarity(vectorsC)\n",
    "csimS=cosine_similarity(vectorsS)"
   ]
  },
  {
   "cell_type": "code",
   "execution_count": 41,
   "metadata": {},
   "outputs": [
    {
     "data": {
      "text/plain": [
       "array([[1.        , 0.03194383],\n",
       "       [0.03194383, 1.        ]])"
      ]
     },
     "execution_count": 41,
     "metadata": {},
     "output_type": "execute_result"
    }
   ],
   "source": [
    "csimD"
   ]
  },
  {
   "cell_type": "code",
   "execution_count": 42,
   "metadata": {},
   "outputs": [
    {
     "data": {
      "text/plain": [
       "array([[1.        , 0.15689291, 0.        ],\n",
       "       [0.15689291, 1.        , 0.        ],\n",
       "       [0.        , 0.        , 1.        ]])"
      ]
     },
     "execution_count": 42,
     "metadata": {},
     "output_type": "execute_result"
    }
   ],
   "source": [
    "csimC"
   ]
  },
  {
   "cell_type": "code",
   "execution_count": 43,
   "metadata": {},
   "outputs": [
    {
     "data": {
      "text/plain": [
       "array([[1.        , 0.32897585],\n",
       "       [0.32897585, 1.        ]])"
      ]
     },
     "execution_count": 43,
     "metadata": {},
     "output_type": "execute_result"
    }
   ],
   "source": [
    "csimS"
   ]
  },
  {
   "cell_type": "code",
   "execution_count": 44,
   "metadata": {},
   "outputs": [],
   "source": [
    "def cosine_sim_vectors(vec1,vec2):\n",
    "    vec1 = vec1.reshape(1,-1)\n",
    "    vec2 = vec2.reshape(1,-1)\n",
    "    return cosine_similarity(vec1,vec2)[0][0]"
   ]
  },
  {
   "cell_type": "markdown",
   "metadata": {},
   "source": [
    "1. A y B"
   ]
  },
  {
   "cell_type": "code",
   "execution_count": 67,
   "metadata": {},
   "outputs": [],
   "source": [
    "# cosine_sim_vectors(vectorsD[0],vectorsD[1])\n",
    "# cosine_sim_vectors(vectorsC[0],vectorsC[1])"
   ]
  },
  {
   "cell_type": "code",
   "execution_count": 68,
   "metadata": {
    "scrolled": true
   },
   "outputs": [
    {
     "data": {
      "text/plain": [
       "['He estado corrigiendo los trabajos de Data Science y la parte de aprendizaje no supervisado la han realizado bastante bien, Â¿QuÃ© algoritmos de clustering has dado en clase?',\n",
       " 'MeanShift para clustering por densidad habeis visto? Yo suelo utilizar para datos numÃ©ricos y me da muy buenos resultados para descartar outliers']"
      ]
     },
     "execution_count": 68,
     "metadata": {},
     "output_type": "execute_result"
    }
   ],
   "source": [
    "mensajes_dani"
   ]
  },
  {
   "cell_type": "code",
   "execution_count": 71,
   "metadata": {},
   "outputs": [],
   "source": [
    "gen_docsD = [[w.lower() for w in word_tokenize(text)]\n",
    "            for text in mensajes_dani] \n",
    "gen_docsC = [[w.lower() for w in word_tokenize(text)]\n",
    "            for text in mensajes_carlos] \n",
    "gen_docsS = [[w.lower() for w in word_tokenize(text)]\n",
    "            for text in mensajes_sara] "
   ]
  },
  {
   "cell_type": "code",
   "execution_count": 73,
   "metadata": {},
   "outputs": [
    {
     "name": "stdout",
     "output_type": "stream",
     "text": [
      "{',': 0, '?': 1, 'algoritmos': 2, 'aprendizaje': 3, 'bastante': 4, 'bien': 5, 'clase': 6, 'clustering': 7, 'corrigiendo': 8, 'dado': 9, 'data': 10, 'de': 11, 'en': 12, 'estado': 13, 'han': 14, 'has': 15, 'he': 16, 'la': 17, 'los': 18, 'no': 19, 'parte': 20, 'realizado': 21, 'science': 22, 'supervisado': 23, 'trabajos': 24, 'y': 25, 'â¿quã©': 26, 'buenos': 27, 'da': 28, 'datos': 29, 'densidad': 30, 'descartar': 31, 'habeis': 32, 'me': 33, 'meanshift': 34, 'muy': 35, 'numã©ricos': 36, 'outliers': 37, 'para': 38, 'por': 39, 'resultados': 40, 'suelo': 41, 'utilizar': 42, 'visto': 43, 'yo': 44}\n",
      "{',': 0, '.': 1, 'centrado': 2, 'clustering': 3, 'dani': 4, 'dbscan': 5, 'de': 6, 'densidad': 7, 'el': 8, 'en': 9, 'hdscan': 10, 'he': 11, 'hemos': 12, 'hola': 13, 'la': 14, 'me': 15, 'no': 16, 'optics': 17, 'parte': 18, 'por': 19, 'sobre': 20, 'supervisado': 21, 'todo': 22, 'visto': 23, 'y': 24, 'ajustes': 25, 'buenos': 26, 'cuando': 27, 'da': 28, 'es': 29, 'hacer': 30, 'manuales': 31, 'mã¡s': 32, 'otros': 33, 'parã¡metros': 34, 'pero': 35, 'puedes': 36, 'que': 37, 'resultados': 38, 'si': 39, 'son': 40, 'verdad': 41, 'ã³ptimos': 42, 'perfecto': 43}\n",
      "{'7': 0, 'aplicabilidad': 1, 'clutering': 2, 'del': 3, 'densidad': 4, 'el': 5, 'en': 6, 'interesante': 7, 'me': 8, 'no': 9, 'parece': 10, 'pero': 11, 'por': 12, 'reto': 13, 'se': 14, 'si': 15, 'super': 16, 'tema': 17, 'tendrã\\xada': 18, '!': 19, 'enriquecedor': 20, 'guay': 21, 'puede': 22, 'ser': 23, 'y': 24}\n"
     ]
    }
   ],
   "source": [
    "dictionaryD = gensim.corpora.Dictionary(gen_docsD)\n",
    "print(dictionaryD.token2id)\n",
    "dictionaryC = gensim.corpora.Dictionary(gen_docsC)\n",
    "print(dictionaryC.token2id)\n",
    "dictionaryS = gensim.corpora.Dictionary(gen_docsS)\n",
    "print(dictionaryS.token2id)"
   ]
  },
  {
   "cell_type": "code",
   "execution_count": 77,
   "metadata": {},
   "outputs": [],
   "source": [
    "corpusD = [dictionaryD.doc2bow(gen_doc) for gen_doc in gen_docsD]\n",
    "corpusC = [dictionaryC.doc2bow(gen_doc) for gen_doc in gen_docsC]\n",
    "corpusS = [dictionaryS.doc2bow(gen_doc) for gen_doc in gen_docsS]"
   ]
  },
  {
   "cell_type": "code",
   "execution_count": 80,
   "metadata": {},
   "outputs": [],
   "source": [
    "tf_idfD = gensim.models.TfidfModel(corpusD)\n",
    "tf_idfC = gensim.models.TfidfModel(corpusC)\n",
    "tf_idfS = gensim.models.TfidfModel(corpusS)"
   ]
  },
  {
   "cell_type": "code",
   "execution_count": 84,
   "metadata": {},
   "outputs": [],
   "source": [
    "import numpy as np"
   ]
  },
  {
   "cell_type": "code",
   "execution_count": 85,
   "metadata": {},
   "outputs": [
    {
     "name": "stdout",
     "output_type": "stream",
     "text": [
      "[[',', 0.17], ['algoritmos', 0.17], ['aprendizaje', 0.17], ['bastante', 0.17], ['bien', 0.17], ['clase', 0.17], ['corrigiendo', 0.17], ['dado', 0.17], ['data', 0.17], ['de', 0.51], ['en', 0.17], ['estado', 0.17], ['han', 0.17], ['has', 0.17], ['he', 0.17], ['la', 0.34], ['los', 0.17], ['no', 0.17], ['parte', 0.17], ['realizado', 0.17], ['science', 0.17], ['supervisado', 0.17], ['trabajos', 0.17], ['â¿quã©', 0.17]]\n",
      "[['buenos', 0.2], ['da', 0.2], ['datos', 0.2], ['densidad', 0.2], ['descartar', 0.2], ['habeis', 0.2], ['me', 0.2], ['meanshift', 0.2], ['muy', 0.2], ['numã©ricos', 0.2], ['outliers', 0.2], ['para', 0.59], ['por', 0.2], ['resultados', 0.2], ['suelo', 0.2], ['utilizar', 0.2], ['visto', 0.2], ['yo', 0.2]]\n",
      "[[',', 0.15], ['.', 0.21], ['centrado', 0.21], ['clustering', 0.21], ['dani', 0.21], ['dbscan', 0.08], ['de', 0.08], ['densidad', 0.21], ['el', 0.21], ['en', 0.41], ['hdscan', 0.21], ['he', 0.21], ['hemos', 0.21], ['hola', 0.21], ['la', 0.08], ['me', 0.21], ['no', 0.21], ['optics', 0.08], ['parte', 0.21], ['por', 0.21], ['sobre', 0.21], ['supervisado', 0.21], ['todo', 0.21], ['visto', 0.21], ['y', 0.08]]\n",
      "[[',', 0.16], ['dbscan', 0.08], ['de', 0.08], ['la', 0.08], ['optics', 0.08], ['y', 0.08], ['ajustes', 0.21], ['buenos', 0.21], ['cuando', 0.21], ['da', 0.21], ['es', 0.21], ['hacer', 0.21], ['manuales', 0.21], ['mã¡s', 0.21], ['otros', 0.21], ['parã¡metros', 0.21], ['pero', 0.21], ['puedes', 0.21], ['que', 0.21], ['resultados', 0.21], ['si', 0.42], ['son', 0.21], ['verdad', 0.21], ['ã³ptimos', 0.21]]\n",
      "[['perfecto', 1.0]]\n",
      "[['7', 0.24], ['aplicabilidad', 0.24], ['clutering', 0.24], ['del', 0.24], ['densidad', 0.24], ['el', 0.47], ['en', 0.24], ['no', 0.24], ['pero', 0.24], ['por', 0.24], ['reto', 0.24], ['se', 0.24], ['si', 0.24], ['tema', 0.24], ['tendrã\\xada', 0.24]]\n",
      "[['!', 0.41], ['enriquecedor', 0.41], ['guay', 0.41], ['puede', 0.41], ['ser', 0.41], ['y', 0.41]]\n"
     ]
    }
   ],
   "source": [
    "for doc in tf_idfD[corpusD]:\n",
    "    print([[dictionaryD[id], np.around(freq, decimals=2)] for id, freq in doc])\n",
    "    \n",
    "for doc in tf_idfC[corpusC]:\n",
    "    print([[dictionaryC[id], np.around(freq, decimals=2)] for id, freq in doc])    \n",
    "\n",
    "for doc in tf_idfS[corpusS]:\n",
    "    print([[dictionaryS[id], np.around(freq, decimals=2)] for id, freq in doc])"
   ]
  },
  {
   "cell_type": "code",
   "execution_count": 86,
   "metadata": {},
   "outputs": [],
   "source": [
    "simsD = gensim.similarities.Similarity('a/',tf_idfD[corpusD],\n",
    "                                        num_features=len(dictionaryD))"
   ]
  },
  {
   "cell_type": "code",
   "execution_count": 87,
   "metadata": {},
   "outputs": [
    {
     "data": {
      "text/plain": [
       "<gensim.similarities.docsim.Similarity at 0x1698e6f1748>"
      ]
     },
     "execution_count": 87,
     "metadata": {},
     "output_type": "execute_result"
    }
   ],
   "source": [
    "for line in file_docs2:\n",
    "    query_doc = [w.lower() for w in word_tokenize(line)]\n",
    "    query_doc_bow = dictionary.doc2bow(query_doc)"
   ]
  },
  {
   "cell_type": "code",
   "execution_count": null,
   "metadata": {},
   "outputs": [],
   "source": [
    "# percentage_of_similarity = float((sum_of_sims / len(file_docs)) * 100)"
   ]
  },
  {
   "cell_type": "markdown",
   "metadata": {},
   "source": [
    "1. D)"
   ]
  },
  {
   "cell_type": "code",
   "execution_count": 92,
   "metadata": {},
   "outputs": [],
   "source": [
    "mensajes_total = []\n",
    "for m in mensajes:\n",
    "    mensajes_total.append(m.text)"
   ]
  },
  {
   "cell_type": "code",
   "execution_count": 93,
   "metadata": {},
   "outputs": [
    {
     "name": "stdout",
     "output_type": "stream",
     "text": [
      "[[0 1 0 0 1 1 1 0 0 1 1 0 1 0 0 0 1 0 1 0 0 3 0 0 0 0 0 1 0 0 1 0 0 0 0 1\n",
      "  1 0 0 1 0 0 0 2 0 1 0 0 0 0 0 0 1 0 0 0 0 0 0 1 0 0 0 0 0 0 0 0 1 1 0 0\n",
      "  0 1 0 0 0 0 0 0 0 1 0 0 0 1 0 0 0 0 0 0 0]\n",
      " [0 0 0 0 0 0 0 0 1 0 1 0 0 0 0 0 0 1 0 0 1 1 0 1 0 1 0 2 0 0 0 0 0 0 0 0\n",
      "  0 0 1 1 1 1 0 1 0 0 0 1 0 0 0 0 1 0 1 0 0 0 0 1 0 0 0 0 1 0 0 0 0 0 0 0\n",
      "  0 0 0 0 0 1 0 0 0 1 0 0 1 0 0 0 0 0 1 0 0]\n",
      " [0 0 0 0 0 0 0 1 0 0 1 0 0 0 0 1 0 0 0 1 0 0 0 1 1 0 0 0 0 0 0 0 1 0 0 0\n",
      "  0 0 0 0 0 0 0 0 0 0 0 1 1 0 1 0 0 1 0 0 1 3 0 0 0 0 0 0 1 0 0 0 0 0 1 0\n",
      "  1 0 0 0 0 0 0 1 0 0 0 0 0 0 0 0 1 0 1 1 0]\n",
      " [1 0 0 0 0 0 0 1 0 0 0 0 0 0 1 1 0 0 0 0 1 1 0 0 0 0 0 0 0 1 0 0 0 0 1 0\n",
      "  0 0 0 0 0 0 0 1 0 0 1 0 0 1 0 1 0 0 1 1 0 0 0 0 1 0 1 0 0 0 1 1 0 0 1 0\n",
      "  0 0 0 0 2 0 1 0 0 0 0 0 0 0 0 0 0 1 0 0 1]\n",
      " [0 0 0 1 0 0 0 0 0 0 0 1 0 0 0 0 0 0 0 0 0 0 1 1 0 2 0 1 0 0 0 0 0 0 0 0\n",
      "  0 0 0 0 0 0 1 0 0 0 0 1 0 0 0 0 1 0 0 0 0 0 1 0 0 0 1 0 1 0 0 0 0 0 0 1\n",
      "  0 0 1 0 1 0 0 0 1 0 1 1 0 0 0 0 0 0 0 0 0]\n",
      " [0 0 1 0 0 0 0 0 0 0 0 0 0 1 0 0 0 0 0 0 0 1 0 0 0 0 1 0 0 0 0 0 0 1 0 0\n",
      "  0 1 0 0 0 0 0 0 1 0 0 0 0 0 0 0 0 0 0 0 0 1 0 0 0 0 0 1 0 0 0 2 0 0 0 0\n",
      "  0 0 0 0 0 0 0 0 0 0 0 0 0 0 1 1 0 0 0 0 0]\n",
      " [0 0 0 0 0 0 0 0 0 0 0 0 0 0 0 0 0 0 0 0 0 0 0 0 0 0 0 0 1 0 0 1 0 0 0 0\n",
      "  0 0 0 0 0 0 1 0 0 0 0 1 0 0 0 0 0 0 0 0 0 0 1 0 0 0 0 0 0 1 0 0 0 0 0 0\n",
      "  0 0 0 1 0 0 0 0 2 0 0 0 0 0 0 0 0 0 0 0 0]\n",
      " [0 0 0 0 0 0 0 0 0 0 0 0 0 0 0 0 0 0 0 0 0 0 0 0 0 0 0 0 0 0 0 0 0 0 0 0\n",
      "  0 0 0 0 0 0 0 0 0 0 0 0 0 0 0 0 0 0 0 0 0 0 0 0 0 1 0 0 0 0 0 0 0 0 0 0\n",
      "  0 0 0 0 0 0 0 0 0 0 0 0 0 0 0 0 0 0 0 0 0]]\n"
     ]
    }
   ],
   "source": [
    "vectorizer = CountVectorizer().fit_transform(mensajes_total) #Pasa las frases a vectores porque coge las palabras como únicas\n",
    "vectors = vectorizer.toarray()\n",
    "\n",
    "print(vectors)"
   ]
  },
  {
   "cell_type": "code",
   "execution_count": 95,
   "metadata": {},
   "outputs": [
    {
     "data": {
      "text/plain": [
       "array([[1.        , 0.40567404, 0.03194383, 0.16574839, 0.07377111,\n",
       "        0.13093073, 0.        , 0.        ],\n",
       "       [0.40567404, 1.        , 0.18898224, 0.15689291, 0.34914862,\n",
       "        0.05163978, 0.06030227, 0.        ],\n",
       "       [0.03194383, 0.18898224, 1.        , 0.1111874 , 0.12371791,\n",
       "        0.14638501, 0.05698029, 0.        ],\n",
       "       [0.16574839, 0.15689291, 0.1111874 , 1.        , 0.12838815,\n",
       "        0.15191091, 0.        , 0.        ],\n",
       "       [0.07377111, 0.34914862, 0.12371791, 0.12838815, 1.        ,\n",
       "        0.        , 0.32897585, 0.        ],\n",
       "       [0.13093073, 0.05163978, 0.14638501, 0.15191091, 0.        ,\n",
       "        1.        , 0.        , 0.        ],\n",
       "       [0.        , 0.06030227, 0.05698029, 0.        , 0.32897585,\n",
       "        0.        , 1.        , 0.        ],\n",
       "       [0.        , 0.        , 0.        , 0.        , 0.        ,\n",
       "        0.        , 0.        , 1.        ]])"
      ]
     },
     "execution_count": 95,
     "metadata": {},
     "output_type": "execute_result"
    }
   ],
   "source": [
    "csim=cosine_similarity(vectors)\n",
    "csim"
   ]
  },
  {
   "cell_type": "code",
   "execution_count": 97,
   "metadata": {},
   "outputs": [
    {
     "name": "stdout",
     "output_type": "stream",
     "text": [
      "AxesSubplot(0.125,0.125;0.62x0.755)\n"
     ]
    },
    {
     "data": {
      "image/png": "[encoded data removed]",
      "text/plain": [
       "<Figure size 432x288 with 2 Axes>"
      ]
     },
     "metadata": {
      "needs_background": "light"
     },
     "output_type": "display_data"
    }
   ],
   "source": [
    "import seaborn as sns\n",
    "ax = sns.heatmap(csim, cmap='Greys')\n",
    "print(ax)"
   ]
  },
  {
   "cell_type": "code",
   "execution_count": 102,
   "metadata": {},
   "outputs": [
    {
     "name": "stdout",
     "output_type": "stream",
     "text": [
      "los textos que más se parecen entre si son:\n",
      "He estado corrigiendo los trabajos de Data Science y la parte de aprendizaje no supervisado la han realizado bastante bien, Â¿QuÃ© algoritmos de clustering has dado en clase?\n",
      "Y\n",
      "Hola Dani, en la parte de no supervisado me he centrado sobre todo en el clustering por densidad. Hemos visto Optics, DBSCAN y HDSCAN\n"
     ]
    }
   ],
   "source": [
    "print(\"los textos que más se parecen entre si son:\")\n",
    "print(mensajes_total[0])\n",
    "print(\"Y\")\n",
    "print(mensajes_total[1])"
   ]
  },
  {
   "cell_type": "code",
   "execution_count": null,
   "metadata": {},
   "outputs": [],
   "source": []
  },
  {
   "cell_type": "markdown",
   "metadata": {},
   "source": [
    "## 2"
   ]
  },
  {
   "cell_type": "code",
   "execution_count": 173,
   "metadata": {},
   "outputs": [],
   "source": [
    "df=pd.read_csv(\"Spotify-2000.csv\")"
   ]
  },
  {
   "cell_type": "code",
   "execution_count": 174,
   "metadata": {},
   "outputs": [
    {
     "data": {
      "text/html": [
       "<div>\n",
       "<style scoped>\n",
       "    .dataframe tbody tr th:only-of-type {\n",
       "        vertical-align: middle;\n",
       "    }\n",
       "\n",
       "    .dataframe tbody tr th {\n",
       "        vertical-align: top;\n",
       "    }\n",
       "\n",
       "    .dataframe thead th {\n",
       "        text-align: right;\n",
       "    }\n",
       "</style>\n",
       "<table border=\"1\" class=\"dataframe\">\n",
       "  <thead>\n",
       "    <tr style=\"text-align: right;\">\n",
       "      <th></th>\n",
       "      <th>Index</th>\n",
       "      <th>Title</th>\n",
       "      <th>Artist</th>\n",
       "      <th>Top Genre</th>\n",
       "      <th>Year</th>\n",
       "      <th>Beats Per Minute (BPM)</th>\n",
       "      <th>Energy</th>\n",
       "      <th>Danceability</th>\n",
       "      <th>Loudness (dB)</th>\n",
       "      <th>Liveness</th>\n",
       "      <th>Valence</th>\n",
       "      <th>Length (Duration)</th>\n",
       "      <th>Acousticness</th>\n",
       "      <th>Speechiness</th>\n",
       "      <th>Popularity</th>\n",
       "    </tr>\n",
       "  </thead>\n",
       "  <tbody>\n",
       "    <tr>\n",
       "      <th>0</th>\n",
       "      <td>1</td>\n",
       "      <td>Sunrise</td>\n",
       "      <td>Norah Jones</td>\n",
       "      <td>adult standards</td>\n",
       "      <td>2004</td>\n",
       "      <td>157</td>\n",
       "      <td>30</td>\n",
       "      <td>53</td>\n",
       "      <td>-14</td>\n",
       "      <td>11</td>\n",
       "      <td>68</td>\n",
       "      <td>201</td>\n",
       "      <td>94</td>\n",
       "      <td>3</td>\n",
       "      <td>71</td>\n",
       "    </tr>\n",
       "    <tr>\n",
       "      <th>1</th>\n",
       "      <td>2</td>\n",
       "      <td>Black Night</td>\n",
       "      <td>Deep Purple</td>\n",
       "      <td>album rock</td>\n",
       "      <td>2000</td>\n",
       "      <td>135</td>\n",
       "      <td>79</td>\n",
       "      <td>50</td>\n",
       "      <td>-11</td>\n",
       "      <td>17</td>\n",
       "      <td>81</td>\n",
       "      <td>207</td>\n",
       "      <td>17</td>\n",
       "      <td>7</td>\n",
       "      <td>39</td>\n",
       "    </tr>\n",
       "    <tr>\n",
       "      <th>2</th>\n",
       "      <td>3</td>\n",
       "      <td>Clint Eastwood</td>\n",
       "      <td>Gorillaz</td>\n",
       "      <td>alternative hip hop</td>\n",
       "      <td>2001</td>\n",
       "      <td>168</td>\n",
       "      <td>69</td>\n",
       "      <td>66</td>\n",
       "      <td>-9</td>\n",
       "      <td>7</td>\n",
       "      <td>52</td>\n",
       "      <td>341</td>\n",
       "      <td>2</td>\n",
       "      <td>17</td>\n",
       "      <td>69</td>\n",
       "    </tr>\n",
       "    <tr>\n",
       "      <th>3</th>\n",
       "      <td>4</td>\n",
       "      <td>The Pretender</td>\n",
       "      <td>Foo Fighters</td>\n",
       "      <td>alternative metal</td>\n",
       "      <td>2007</td>\n",
       "      <td>173</td>\n",
       "      <td>96</td>\n",
       "      <td>43</td>\n",
       "      <td>-4</td>\n",
       "      <td>3</td>\n",
       "      <td>37</td>\n",
       "      <td>269</td>\n",
       "      <td>0</td>\n",
       "      <td>4</td>\n",
       "      <td>76</td>\n",
       "    </tr>\n",
       "    <tr>\n",
       "      <th>4</th>\n",
       "      <td>5</td>\n",
       "      <td>Waitin' On A Sunny Day</td>\n",
       "      <td>Bruce Springsteen</td>\n",
       "      <td>classic rock</td>\n",
       "      <td>2002</td>\n",
       "      <td>106</td>\n",
       "      <td>82</td>\n",
       "      <td>58</td>\n",
       "      <td>-5</td>\n",
       "      <td>10</td>\n",
       "      <td>87</td>\n",
       "      <td>256</td>\n",
       "      <td>1</td>\n",
       "      <td>3</td>\n",
       "      <td>59</td>\n",
       "    </tr>\n",
       "  </tbody>\n",
       "</table>\n",
       "</div>"
      ],
      "text/plain": [
       "   Index                   Title             Artist            Top Genre  \\\n",
       "0      1                 Sunrise        Norah Jones      adult standards   \n",
       "1      2             Black Night        Deep Purple           album rock   \n",
       "2      3          Clint Eastwood           Gorillaz  alternative hip hop   \n",
       "3      4           The Pretender       Foo Fighters    alternative metal   \n",
       "4      5  Waitin' On A Sunny Day  Bruce Springsteen         classic rock   \n",
       "\n",
       "   Year  Beats Per Minute (BPM)  Energy  Danceability  Loudness (dB)  \\\n",
       "0  2004                     157      30            53            -14   \n",
       "1  2000                     135      79            50            -11   \n",
       "2  2001                     168      69            66             -9   \n",
       "3  2007                     173      96            43             -4   \n",
       "4  2002                     106      82            58             -5   \n",
       "\n",
       "   Liveness  Valence Length (Duration)  Acousticness  Speechiness  Popularity  \n",
       "0        11       68               201            94            3          71  \n",
       "1        17       81               207            17            7          39  \n",
       "2         7       52               341             2           17          69  \n",
       "3         3       37               269             0            4          76  \n",
       "4        10       87               256             1            3          59  "
      ]
     },
     "execution_count": 174,
     "metadata": {},
     "output_type": "execute_result"
    }
   ],
   "source": [
    "df.head()"
   ]
  },
  {
   "cell_type": "code",
   "execution_count": 175,
   "metadata": {},
   "outputs": [],
   "source": [
    "def combined_features(row):\n",
    "    return row['Artist']+\" \"+row['Top Genre']\n",
    "df[\"Artista_y_genero\"] = df.apply(combined_features, axis =1)"
   ]
  },
  {
   "cell_type": "code",
   "execution_count": 176,
   "metadata": {},
   "outputs": [],
   "source": [
    "vectorizer = CountVectorizer().fit_transform(df['Artista_y_genero'])\n",
    "vectors = vectorizer.toarray()"
   ]
  },
  {
   "cell_type": "code",
   "execution_count": 177,
   "metadata": {},
   "outputs": [],
   "source": [
    "csim = cosine_similarity(vectors)"
   ]
  },
  {
   "cell_type": "code",
   "execution_count": 207,
   "metadata": {},
   "outputs": [
    {
     "name": "stdout",
     "output_type": "stream",
     "text": [
      "Jan Smit dutch pop\n",
      "Jan Smit\n",
      "Als De Morgen Is Gekomen\n"
     ]
    }
   ],
   "source": [
    "artist=df.iloc[22,-1]\n",
    "print(artist)\n",
    "cantante=df.iloc[22,2]\n",
    "print(cantante)\n",
    "cancion=df.iloc[22,1]\n",
    "print(cancion)"
   ]
  },
  {
   "cell_type": "code",
   "execution_count": 179,
   "metadata": {
    "scrolled": true
   },
   "outputs": [
    {
     "data": {
      "text/plain": [
       "Index(['Index', 'Title', 'Artist', 'Top Genre', 'Year',\n",
       "       'Beats Per Minute (BPM)', 'Energy', 'Danceability', 'Loudness (dB)',\n",
       "       'Liveness', 'Valence', 'Length (Duration)', 'Acousticness',\n",
       "       'Speechiness', 'Popularity', 'Artista_y_genero'],\n",
       "      dtype='object')"
      ]
     },
     "execution_count": 179,
     "metadata": {},
     "output_type": "execute_result"
    }
   ],
   "source": [
    "df.columns"
   ]
  },
  {
   "cell_type": "code",
   "execution_count": 180,
   "metadata": {},
   "outputs": [],
   "source": [
    "def get_index_from_title(title):\n",
    "    return df[df.Artista_y_genero == title][\"Index\"].values[0]\n",
    "\n",
    "song_index = get_index_from_title(artist)"
   ]
  },
  {
   "cell_type": "code",
   "execution_count": 181,
   "metadata": {},
   "outputs": [
    {
     "name": "stdout",
     "output_type": "stream",
     "text": [
      "El indice 25 que es (Jan Smit dutch pop) tiene el indice: 23\n"
     ]
    }
   ],
   "source": [
    "print(\"El indice 25 que es (Jan Smit dutch pop) tiene el indice:\",song_index)"
   ]
  },
  {
   "cell_type": "code",
   "execution_count": 182,
   "metadata": {},
   "outputs": [],
   "source": [
    "similar_songs = list(enumerate(csim[song_index])) "
   ]
  },
  {
   "cell_type": "code",
   "execution_count": 194,
   "metadata": {},
   "outputs": [],
   "source": [
    "sorted_similar_songs = sorted(similar_songs, key=lambda x:x[1], reverse=True)"
   ]
  },
  {
   "cell_type": "code",
   "execution_count": 223,
   "metadata": {},
   "outputs": [],
   "source": [
    "def get_title_from_index(index):\n",
    "    return df[df.index == index][\"Artista_y_genero\"].values[0]\n",
    "\n",
    "def get_song_from_index(index):\n",
    "    return df[df.index == index][\"Title\"].values[0]\n",
    "\n",
    "# for song in sorted_similar_songs[:5]:\n",
    "#     print(get_title_from_index(song[0]))\n",
    "    \n",
    "canciones = []\n",
    "for song in sorted_similar_songs[:5]: \n",
    "    canciones.append(str(get_title_from_index(song[0])))\n",
    "    \n",
    "musicote = []\n",
    "for song in sorted_similar_songs[:5]: \n",
    "    musicote.append(str(get_song_from_index(song[0])))"
   ]
  },
  {
   "cell_type": "code",
   "execution_count": 233,
   "metadata": {},
   "outputs": [
    {
     "name": "stdout",
     "output_type": "stream",
     "text": [
      "Canciones similares a: ' Als De Morgen Is Gekomen del artista: Jan Smit '\n"
     ]
    }
   ],
   "source": [
    "print('Canciones similares a:', \"'\",cancion, \"del artista:\", cantante ,\"'\")"
   ]
  },
  {
   "cell_type": "code",
   "execution_count": 236,
   "metadata": {},
   "outputs": [
    {
     "name": "stdout",
     "output_type": "stream",
     "text": [
      "Mr. Brightside -> Artista The Killers modern rock\n",
      "Somebody Told Me -> Artista The Killers modern rock\n",
      "Human -> Artista The Killers modern rock\n",
      "How to Save a Life -> Artista The Fray modern rock\n",
      "Uncertain Smile -> Artista The The art rock\n"
     ]
    }
   ],
   "source": [
    "for i in [0,1,2,3,4]:\n",
    "    print(musicote[i], \"-> Artista\",canciones[i])"
   ]
  },
  {
   "cell_type": "code",
   "execution_count": 229,
   "metadata": {},
   "outputs": [
    {
     "data": {
      "text/plain": [
       "5"
      ]
     },
     "execution_count": 229,
     "metadata": {},
     "output_type": "execute_result"
    }
   ],
   "source": []
  },
  {
   "cell_type": "code",
   "execution_count": null,
   "metadata": {},
   "outputs": [],
   "source": []
  }
 ],
 "metadata": {
  "kernelspec": {
   "display_name": "Python 3",
   "language": "python",
   "name": "python3"
  },
  "language_info": {
   "codemirror_mode": {
    "name": "ipython",
    "version": 3
   },
   "file_extension": ".py",
   "mimetype": "text/x-python",
   "name": "python",
   "nbconvert_exporter": "python",
   "pygments_lexer": "ipython3",
   "version": "3.7.3"
  }
 },
 "nbformat": 4,
 "nbformat_minor": 2
}
